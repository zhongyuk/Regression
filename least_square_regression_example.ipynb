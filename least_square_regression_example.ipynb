{
 "cells": [
  {
   "cell_type": "markdown",
   "metadata": {},
   "source": [
    "## A least Square Regression Analysis Example - LeastSquareReg vs. scikit-learn\n",
    "#### Housing dataset\n",
    "The housing dataset used in this demo is downloaded from [UCI Machine Learning Repository](http://archive.ics.uci.edu/ml/datasets/Housing). There are 506 samples in the dataset, each sample comes with 14 attributes. A more detailed dataset variable explaination can be found at its download page at UCI Machine Learning Repo.\n",
    "#### Data Loading\n",
    "Data loading and manipulation is performed using python [pandas library](http://pandas.pydata.org)\n",
    "#### Data Partitioning\n",
    "Data partitioning is performed using python [sciki-learn library](http://scikit-learn.org/stable/) cross_validation\n",
    "#### Regression Analysis\n",
    "Regression analysis is performed both using python [scikit-learn library](http://scikit-learn.org/table/) and the self-written LeastSquareReg class\n",
    "#### Others\n",
    "This regression analysis example is developed under python 2.7 environment. [Numpy](http://www.numpy.org) and [matplotlib](http://matplotlib.org/) are used for constructing data matrix and making plots."
   ]
  },
  {
   "cell_type": "markdown",
   "metadata": {},
   "source": [
    "### Load and partition data"
   ]
  },
  {
   "cell_type": "code",
   "execution_count": 1,
   "metadata": {
    "collapsed": false
   },
   "outputs": [
    {
     "data": {
      "text/html": [
       "<div>\n",
       "<table border=\"1\" class=\"dataframe\">\n",
       "  <thead>\n",
       "    <tr style=\"text-align: right;\">\n",
       "      <th></th>\n",
       "      <th>crimeRate</th>\n",
       "      <th>zoneProp</th>\n",
       "      <th>indProp</th>\n",
       "      <th>boundRiver</th>\n",
       "      <th>nox</th>\n",
       "      <th>roomNum</th>\n",
       "      <th>age</th>\n",
       "      <th>dist</th>\n",
       "      <th>radToHW</th>\n",
       "      <th>tax</th>\n",
       "      <th>teachRatio</th>\n",
       "      <th>bkProp</th>\n",
       "      <th>lowStat</th>\n",
       "      <th>medValue</th>\n",
       "    </tr>\n",
       "  </thead>\n",
       "  <tbody>\n",
       "    <tr>\n",
       "      <th>0</th>\n",
       "      <td>0.00632</td>\n",
       "      <td>18</td>\n",
       "      <td>2.31</td>\n",
       "      <td>0</td>\n",
       "      <td>0.538</td>\n",
       "      <td>6.575</td>\n",
       "      <td>65.2</td>\n",
       "      <td>4.0900</td>\n",
       "      <td>1</td>\n",
       "      <td>296</td>\n",
       "      <td>15.3</td>\n",
       "      <td>396.90</td>\n",
       "      <td>4.98</td>\n",
       "      <td>24.0</td>\n",
       "    </tr>\n",
       "    <tr>\n",
       "      <th>1</th>\n",
       "      <td>0.02731</td>\n",
       "      <td>0</td>\n",
       "      <td>7.07</td>\n",
       "      <td>0</td>\n",
       "      <td>0.469</td>\n",
       "      <td>6.421</td>\n",
       "      <td>78.9</td>\n",
       "      <td>4.9671</td>\n",
       "      <td>2</td>\n",
       "      <td>242</td>\n",
       "      <td>17.8</td>\n",
       "      <td>396.90</td>\n",
       "      <td>9.14</td>\n",
       "      <td>21.6</td>\n",
       "    </tr>\n",
       "    <tr>\n",
       "      <th>2</th>\n",
       "      <td>0.02729</td>\n",
       "      <td>0</td>\n",
       "      <td>7.07</td>\n",
       "      <td>0</td>\n",
       "      <td>0.469</td>\n",
       "      <td>7.185</td>\n",
       "      <td>61.1</td>\n",
       "      <td>4.9671</td>\n",
       "      <td>2</td>\n",
       "      <td>242</td>\n",
       "      <td>17.8</td>\n",
       "      <td>392.83</td>\n",
       "      <td>4.03</td>\n",
       "      <td>34.7</td>\n",
       "    </tr>\n",
       "  </tbody>\n",
       "</table>\n",
       "</div>"
      ],
      "text/plain": [
       "   crimeRate  zoneProp  indProp  boundRiver    nox  roomNum   age    dist  \\\n",
       "0    0.00632        18     2.31           0  0.538    6.575  65.2  4.0900   \n",
       "1    0.02731         0     7.07           0  0.469    6.421  78.9  4.9671   \n",
       "2    0.02729         0     7.07           0  0.469    7.185  61.1  4.9671   \n",
       "\n",
       "   radToHW  tax  teachRatio  bkProp  lowStat  medValue  \n",
       "0        1  296        15.3  396.90     4.98      24.0  \n",
       "1        2  242        17.8  396.90     9.14      21.6  \n",
       "2        2  242        17.8  392.83     4.03      34.7  "
      ]
     },
     "execution_count": 1,
     "metadata": {},
     "output_type": "execute_result"
    }
   ],
   "source": [
    "import pandas as pd\n",
    "import numpy as np\n",
    "dataset = pd.read_csv(\"housing.data.txt\", delim_whitespace=True, header=None)\n",
    "## rename columns\n",
    "dataset.columns = ['crimeRate', 'zoneProp', 'indProp', 'boundRiver', 'nox', 'roomNum',\n",
    "                  'age','dist','radToHW','tax','teachRatio','bkProp','lowStat','medValue'];\n",
    "dataset.head(3)"
   ]
  },
  {
   "cell_type": "code",
   "execution_count": 6,
   "metadata": {
    "collapsed": false
   },
   "outputs": [],
   "source": [
    "## partition data into train : test = 0.7 : 0.3\n",
    "from sklearn import cross_validation\n",
    "train, test = cross_validation.train_test_split(dataset, test_size=0.3,random_state = 321)"
   ]
  },
  {
   "cell_type": "markdown",
   "metadata": {},
   "source": [
    "### Exploratory analysis"
   ]
  },
  {
   "cell_type": "code",
   "execution_count": 8,
   "metadata": {
    "collapsed": false
   },
   "outputs": [
    {
     "data": {
      "image/png": "[encoded data removed]",
      "text/plain": [
       "<matplotlib.figure.Figure at 0x111e11d50>"
      ]
     },
     "metadata": {},
     "output_type": "display_data"
    }
   ],
   "source": [
    "## Explore trend between roomNum and response variable\n",
    "import matplotlib.pyplot as plt\n",
    "%matplotlib inline\n",
    "plt.scatter(train.roomNum, train.medValue)\n",
    "plt.show()"
   ]
  },
  {
   "cell_type": "code",
   "execution_count": 15,
   "metadata": {
    "collapsed": false
   },
   "outputs": [
    {
     "data": {
      "image/png": "[encoded data removed]",
      "text/plain": [
       "<matplotlib.figure.Figure at 0x112b19ed0>"
      ]
     },
     "metadata": {},
     "output_type": "display_data"
    }
   ],
   "source": [
    "## Explore trend between NOx (air quality) and response variable\n",
    "plt.scatter(train.nox, train.medValue)\n",
    "plt.show()"
   ]
  },
  {
   "cell_type": "markdown",
   "metadata": {},
   "source": [
    "### Build a regression model upon training set using scikit-learn \n",
    "Build a regression model to predict medValue using roomNum and NOx concentration\n",
    "* explainatory variables: roomNum, NOx\n",
    "* response variable: medValue"
   ]
  },
  {
   "cell_type": "markdown",
   "metadata": {},
   "source": [
    "#### Build model on training set"
   ]
  },
  {
   "cell_type": "code",
   "execution_count": 22,
   "metadata": {
    "collapsed": false
   },
   "outputs": [],
   "source": [
    "from sklearn.linear_model import LinearRegression\n",
    "X = train[['roomNum','nox']]\n",
    "y = train['medValue']\n",
    "y = np.reshape(y,(-1,1)) ## reshape y from 1D array into 2D array"
   ]
  },
  {
   "cell_type": "code",
   "execution_count": 25,
   "metadata": {
    "collapsed": false
   },
   "outputs": [
    {
     "name": "stdout",
     "output_type": "stream",
     "text": [
      "('Coefficients: \\n', array([[  8.66565437, -17.20552189]]))\n"
     ]
    }
   ],
   "source": [
    "## Fit linear model\n",
    "mod1 = LinearRegression()\n",
    "mod1.fit(X,y)\n",
    "print('Coefficients: \\n', mod1.coef_)"
   ]
  },
  {
   "cell_type": "code",
   "execution_count": 27,
   "metadata": {
    "collapsed": false
   },
   "outputs": [
    {
     "name": "stdout",
     "output_type": "stream",
     "text": [
      "[ 13795.92676835]\n"
     ]
    }
   ],
   "source": [
    "## Compute Residual Sum of Squares on training set\n",
    "print mod1.residues_"
   ]
  },
  {
   "cell_type": "markdown",
   "metadata": {},
   "source": [
    "#### Evaluate Model on testing set"
   ]
  },
  {
   "cell_type": "code",
   "execution_count": null,
   "metadata": {
    "collapsed": true
   },
   "outputs": [],
   "source": []
  },
  {
   "cell_type": "markdown",
   "metadata": {},
   "source": [
    "### Build a regression model upon training set using LeastSquareReg\n",
    "#### Build model on training set"
   ]
  },
  {
   "cell_type": "code",
   "execution_count": 39,
   "metadata": {
    "collapsed": false
   },
   "outputs": [
    {
     "name": "stdout",
     "output_type": "stream",
     "text": [
      "coeffecients computed using normal function:  [[-22.25928662]\n",
      " [  8.66565437]\n",
      " [-17.20552189]]\n"
     ]
    }
   ],
   "source": [
    "import leastSquareReg as lsr\n",
    "from leastSquareReg import DimensionMismatch\n",
    "from leastSquareReg import GradientDescentError\n",
    "mod2 = lsr.LeastSquare(X, y)\n",
    "## closed form soluton: normal function\n",
    "mod2_coef1 = mod2.normFunc()\n",
    "print \"coeffecients computed using normal function: \", mod2_coef1"
   ]
  },
  {
   "cell_type": "code",
   "execution_count": 60,
   "metadata": {
    "collapsed": false
   },
   "outputs": [
    {
     "name": "stdout",
     "output_type": "stream",
     "text": [
      "coefficients computed using gradient descent:  [[-22.2589942 ]\n",
      " [  8.66562475]\n",
      " [-17.20571187]]\n"
     ]
    }
   ],
   "source": [
    "## batch gradient descent solution\n",
    "mod2_coef2, mod2_costs = mod2.gradientDescent(step=1e-5)\n",
    "print \"coefficients computed using gradient descent: \", mod2_coef2"
   ]
  },
  {
   "cell_type": "code",
   "execution_count": 74,
   "metadata": {
    "collapsed": false
   },
   "outputs": [
    {
     "data": {
      "image/png": "[encoded data removed]",
      "text/plain": [
       "<matplotlib.figure.Figure at 0x112b6ad50>"
      ]
     },
     "metadata": {},
     "output_type": "display_data"
    }
   ],
   "source": [
    "plt.plot(range(1,len(mod2_costs)+1), mod2_costs)\n",
    "plt.xlim([1, 100])\n",
    "plt.show()"
   ]
  },
  {
   "cell_type": "code",
   "execution_count": 62,
   "metadata": {
    "collapsed": false
   },
   "outputs": [
    {
     "data": {
      "image/png": "[encoded data removed]",
      "text/plain": [
       "<matplotlib.figure.Figure at 0x1133c5890>"
      ]
     },
     "metadata": {},
     "output_type": "display_data"
    }
   ],
   "source": [
    "mod2.visulizeCosts()"
   ]
  },
  {
   "cell_type": "code",
   "execution_count": 61,
   "metadata": {
    "collapsed": false
   },
   "outputs": [
    {
     "name": "stdout",
     "output_type": "stream",
     "text": [
      "residual sum of squares using normal solution:  13795.9267683\n",
      "residual sum of squares using gradient descent:  13795.9267686\n"
     ]
    }
   ],
   "source": [
    "## compute residual sum of squares\n",
    "rss1 = mod2.compRSS(estimator='NormalFunction')\n",
    "print \"residual sum of squares using normal solution: \", rss1\n",
    "rss2 = mod2.compRSS(estimator='GradientDescent')\n",
    "print \"residual sum of squares using gradient descent: \", rss2"
   ]
  },
  {
   "cell_type": "markdown",
   "metadata": {},
   "source": [
    "#### Evaluate Model on testing set"
   ]
  },
  {
   "cell_type": "markdown",
   "metadata": {},
   "source": [
    "### Summary"
   ]
  },
  {
   "cell_type": "markdown",
   "metadata": {},
   "source": [
    "* There are two computational solutions for solving regression models implemented in LeastSquare class: 1) closed form solution - normal function; 2) batch gradient descent. Both of the solvers resulted in the same model coeffients as performing regression analysis using scikit-learn library.\n",
    "* In the matter of time performance, closed form solution is more efficient than batch gradient descent when facing easily solvalbe formulas. Optimized solver in scikit-learn is more efficient than self implemented batch gradient descent in LeastSquare class\n",
    "* Self-implemented batch gradient descent requires a manual setting of step size, which depends on the natural of the data and requires a few trial runs.\n",
    "* visulizeCosts function in LeastSquare class demonstrates how the costs decreases over the increase of iterations"
   ]
  },
  {
   "cell_type": "code",
   "execution_count": null,
   "metadata": {
    "collapsed": true
   },
   "outputs": [],
   "source": []
  }
 ],
 "metadata": {
  "kernelspec": {
   "display_name": "Python 2",
   "language": "python",
   "name": "python2"
  },
  "language_info": {
   "codemirror_mode": {
    "name": "ipython",
    "version": 2
   },
   "file_extension": ".py",
   "mimetype": "text/x-python",
   "name": "python",
   "nbconvert_exporter": "python",
   "pygments_lexer": "ipython2",
   "version": "2.7.11"
  }
 },
 "nbformat": 4,
 "nbformat_minor": 0
}
